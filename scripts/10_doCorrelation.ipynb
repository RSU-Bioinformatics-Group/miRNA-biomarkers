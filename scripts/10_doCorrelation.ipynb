{
 "cells": [
  {
   "cell_type": "code",
   "execution_count": null,
   "metadata": {
    "vscode": {
     "languageId": "r"
    }
   },
   "outputs": [],
   "source": [
    "# Description:\n",
    "# This notebook contains functions to perform correlation analysis between selected miRNAs and their predicted target genes. \n",
    "# It reads miRNA target predictions from three databases (DIANA, miRTarBase, TargetScan), filters mRNA expression \n",
    "# data based on differentially expressed (DE) genes and common target genes across these databases, \n",
    "# and then calculates Pearson correlations between miRNA and mRNA expression data.\n",
    "#\n",
    "# The functions:\n",
    "# 1. Reads miRNA target predictions from DIANA, miRTarBase, and TargetScan.\n",
    "# 2. Filters mRNA expression data to retain only DE genes that are common targets of the miRNAs.\n",
    "# 3. Performs correlation analysis between the miRNA expression data and filtered mRNA expression data.\n",
    "# 4. Outputs correlation coefficients and p-values for each miRNA-mRNA pair, saving results for those \n",
    "#    with significant correlations (p-value < 0.05 and negative correlation).\n",
    "\n",
    "# Load necessary libraries\n",
    "library(dplyr)\n",
    "library(tidyr)\n",
    "library(Hmisc)  \n",
    "library(splitstackshape) \n"
   ]
  },
  {
   "cell_type": "code",
   "execution_count": null,
   "metadata": {
    "vscode": {
     "languageId": "r"
    }
   },
   "outputs": [],
   "source": [
    "# Function to read gene lists from different databases\n",
    "read_miRNA_data <- function(miRNA_id, diana_file, mirTarBase_file, targetScan_file) {\n",
    "  diana_genes <- read.delim(diana_file)$gene_symbol\n",
    "  mirTarBase_genes <- read.delim(mirTarBase_file, sep = ',')$Target\n",
    "  targetScan_genes <- read.delim(targetScan_file)$Target.gene\n",
    "  gene_list <- list('DIANA' = diana_genes, 'TargetScan' = targetScan_genes, 'miRTarBase' = mirTarBase_genes)\n",
    "  return(gene_list)\n",
    "}"
   ]
  },
  {
   "cell_type": "code",
   "execution_count": null,
   "metadata": {
    "vscode": {
     "languageId": "r"
    }
   },
   "outputs": [],
   "source": [
    "# Function to compile gene lists from databases and find common genes\n",
    "get_common_genes <- function(gene_lists) {\n",
    "  all_genes <- c(gene_lists$DIANA, gene_lists$TargetScan, gene_lists$miRTarBase)\n",
    "  gene_counts <- table(all_genes)\n",
    "  common_genes <- names(gene_counts[gene_counts >= 1])\n",
    "  return(common_genes)\n",
    "}"
   ]
  },
  {
   "cell_type": "code",
   "execution_count": null,
   "metadata": {
    "vscode": {
     "languageId": "r"
    }
   },
   "outputs": [],
   "source": [
    "# Function to filter DE genes and target genes\n",
    "filter_expression_data <- function(mRNA_matrix, DE_genes, common_genes) {\n",
    "  filtered_data <- mRNA_matrix %>%\n",
    "    filter(Gene_ID %in% DE_genes$Gene_Symbol) %>%\n",
    "    filter(Gene_ID %in% common_genes)\n",
    "  rownames(filtered_data) <- filtered_data$Gene_ID\n",
    "  filtered_data <- subset(filtered_data, select = -Gene_ID)\n",
    "  return(filtered_data)\n",
    "}"
   ]
  },
  {
   "cell_type": "code",
   "execution_count": null,
   "metadata": {
    "vscode": {
     "languageId": "r"
    }
   },
   "outputs": [],
   "source": [
    "# Function to process all steps for a specific miRNA\n",
    "process_miRNA <- function(miRNA_id, diana_file, mirTarBase_file, targetScan_file, mRNA_matrix, DE_genes) {\n",
    "  gene_lists <- read_miRNA_data(miRNA_id, diana_file, mirTarBase_file, targetScan_file)\n",
    "  common_genes <- get_common_genes(gene_lists)\n",
    "  filtered_data <- filter_expression_data(mRNA_matrix, DE_genes, common_genes)\n",
    "  return(filtered_data)\n",
    "}"
   ]
  },
  {
   "cell_type": "code",
   "execution_count": null,
   "metadata": {
    "vscode": {
     "languageId": "r"
    }
   },
   "outputs": [],
   "source": [
    "# Function to process miRNA expression, expand rows, and perform correlation with mRNA expression\n",
    "perform_mirna_mrna_correlation <- function(miRNA_matrix, filtered_data_list, output_file_prefix) {\n",
    "  \n",
    "  # List of miRNAs and corresponding gene data\n",
    "  miRNA_names <- c('hsa-miR-136-5p', 'hsa-miR-1-3p', 'hsa-miR-507', 'hsa-miR-514a-3p', 'hsa-miR-514a-5p', 'hsa-miR-513c-3p')\n",
    "  \n",
    "  # Iterate through each miRNA and corresponding gene data\n",
    "  for (miRNA_name in miRNA_names) {\n",
    "    # Select relevant miRNA expression and corresponding filtered gene expression data\n",
    "    miRNA_expr <- miRNA_matrix[miRNA_name,]\n",
    "    filtered_gene_expr <- filtered_data_list[[miRNA_name]]\n",
    "    \n",
    "    # Number of rows in filtered gene expression data\n",
    "    num_rows_genes <- nrow(filtered_gene_expr)\n",
    "    \n",
    "    # Duplicate miRNA expression to match gene expression dimensions\n",
    "    miRNA_expr_dup <- expandRows(miRNA_expr, count=num_rows_genes, count.is.col=FALSE)\n",
    "    \n",
    "    # Transpose for compatibility in correlation analysis\n",
    "    miRNA_expr_dup <- t(as.matrix(miRNA_expr_dup))\n",
    "    filtered_gene_expr <- t(as.matrix(filtered_gene_expr))\n",
    "    \n",
    "    # Perform Pearson correlation using rcorr\n",
    "    correlation_result <- rcorr(miRNA_expr_dup, filtered_gene_expr, type='pearson')\n",
    "    \n",
    "    # Extract correlation coefficients and p-values\n",
    "    corr_coefficients <- correlation_result$r[1, ]  # First row contains the correlation values\n",
    "    p_values <- correlation_result$P[1, ]           # First row contains the p-values\n",
    "    \n",
    "    # Combine correlation coefficients and p-values into a single matrix\n",
    "    combined_results <- cbind(corr_coefficients, p_values)\n",
    "    \n",
    "    # Filter results by correlation threshold (e.g., p-value < 0.05 and negative correlation)\n",
    "    filtered_results <- combined_results[combined_results[, 2] < 0.05 & combined_results[, 1] < 0, ]\n",
    "    \n",
    "    # Define output file name based on miRNA name\n",
    "    output_file <- paste0(output_file_prefix, '_', miRNA_name, '_correlation_results.csv')\n",
    "    \n",
    "    # Save filtered results to a CSV file\n",
    "    write.table(filtered_results, file=output_file, sep='\\t', col.names=NA)\n",
    "    \n",
    "    # Print the results for debugging purposes\n",
    "    print(paste(\"Correlation results for\", miRNA_name))\n",
    "    print(filtered_results)\n",
    "  }\n",
    "}"
   ]
  },
  {
   "cell_type": "code",
   "execution_count": null,
   "metadata": {
    "vscode": {
     "languageId": "r"
    }
   },
   "outputs": [],
   "source": [
    "\n",
    "# Reading miRNA and mRNA expression data\n",
    "miRNA_matrix <- read.delim('normalizedTMMlog2Cpmplus1_DE.csv')\n",
    "mRNA_matrix <- read.delim('countDataFilt10CountsGeneSymbols.txt')\n",
    "genes_DE_down <- read.delim(\"DGE_LIMMA_ovlp_DeSeq2_B_vs_C_DOWN.csv\")\n",
    "\n",
    "# Example: Process and save data for hsa-miR-136-5p\n",
    "filtered_data_hsa_miR_136_5p_expr <- process_miRNA(\n",
    "  miRNA_id = 'hsa-miR-136-5p',\n",
    "  diana_file = 'hsa-miR-136-5p.tsv',\n",
    "  mirTarBase_file = 'hsa-miR-136-5p.csv',\n",
    "  targetScan_file = 'TargetScan8.0__miR-136-5p.predicted_targets.txt',\n",
    "  mRNA_matrix = mRNA_matrix,\n",
    "  DE_genes = genes_DE_down\n",
    ")\n",
    "save_filtered_data(filtered_data_hsa_miR_136_5p_expr, \"filtered_data_hsa_miR_136_5p_expr.csv\")"
   ]
  },
  {
   "cell_type": "code",
   "execution_count": null,
   "metadata": {
    "vscode": {
     "languageId": "r"
    }
   },
   "outputs": [],
   "source": [
    "# Example: Assuming other miRNAs like filtered_data_hsa_miR_507_expr are processed similarly\n",
    "# Create a list of filtered data for correlation analysis\n",
    "filtered_data_list <- list(\n",
    "  'hsa-miR-136-5p' = filtered_data_hsa_miR_136_5p_expr,\n",
    "  'hsa-miR-1-3p' = filtered_data_hsa_miR_1_3p_expr,\n",
    "  'hsa-miR-507' = filtered_data_hsa_miR_507_expr,  # Add corresponding processing for miR-507\n",
    "  'hsa-miR-514a-3p' = filtered_data_hsa_miR_514a_3p_expr,  # Add corresponding processing for miR-514a-3p\n",
    "  'hsa-miR-514a-5p' = filtered_data_hsa_miR_514a_5p_expr,  # Add corresponding processing for miR-514a-5p\n",
    "  'hsa-miR-513c-3p' = filtered_data_hsa_miR_513c_3p_expr   # Add corresponding processing for miR-513c-3p\n",
    ")\n",
    "\n",
    "# Perform correlation analysis and save the results\n",
    "perform_mirna_mrna_correlation(miRNA_matrix, filtered_data_list, output_file_prefix='corr_coef')\n"
   ]
  }
 ],
 "metadata": {
  "kernelspec": {
   "display_name": "R",
   "language": "R",
   "name": "ir"
  },
  "language_info": {
   "name": "R"
  }
 },
 "nbformat": 4,
 "nbformat_minor": 2
}
