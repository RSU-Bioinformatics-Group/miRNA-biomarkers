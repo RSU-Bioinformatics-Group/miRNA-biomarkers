{
 "cells": [
  {
   "cell_type": "code",
   "execution_count": 1,
   "metadata": {
    "vscode": {
     "languageId": "r"
    }
   },
   "outputs": [
    {
     "name": "stderr",
     "output_type": "stream",
     "text": [
      "-- \u001b[1mAttaching core tidyverse packages\u001b[22m ------------------------ tidyverse 2.0.0 --\n",
      "\u001b[32mv\u001b[39m \u001b[34mdplyr    \u001b[39m 1.1.4     \u001b[32mv\u001b[39m \u001b[34mreadr    \u001b[39m 2.1.5\n",
      "\u001b[32mv\u001b[39m \u001b[34mforcats  \u001b[39m 1.0.0     \u001b[32mv\u001b[39m \u001b[34mstringr  \u001b[39m 1.5.1\n",
      "\u001b[32mv\u001b[39m \u001b[34mggplot2  \u001b[39m 3.5.0     \u001b[32mv\u001b[39m \u001b[34mtibble   \u001b[39m 3.2.1\n",
      "\u001b[32mv\u001b[39m \u001b[34mlubridate\u001b[39m 1.9.3     \u001b[32mv\u001b[39m \u001b[34mtidyr    \u001b[39m 1.3.1\n",
      "\u001b[32mv\u001b[39m \u001b[34mpurrr    \u001b[39m 1.0.2     \n",
      "-- \u001b[1mConflicts\u001b[22m ------------------------------------------ tidyverse_conflicts() --\n",
      "\u001b[31mx\u001b[39m \u001b[34mdplyr\u001b[39m::\u001b[32mfilter()\u001b[39m masks \u001b[34mstats\u001b[39m::filter()\n",
      "\u001b[31mx\u001b[39m \u001b[34mdplyr\u001b[39m::\u001b[32mlag()\u001b[39m    masks \u001b[34mstats\u001b[39m::lag()\n",
      "\u001b[36mi\u001b[39m Use the conflicted package (\u001b[3m\u001b[34m<http://conflicted.r-lib.org/>\u001b[39m\u001b[23m) to force all conflicts to become errors\n",
      "\n",
      "Attaching package: 'cowplot'\n",
      "\n",
      "\n",
      "The following object is masked from 'package:lubridate':\n",
      "\n",
      "    stamp\n",
      "\n",
      "\n"
     ]
    }
   ],
   "source": [
    "# Volcano Plot Analysis for Differential Expression Results\n",
    "\n",
    "# This notebook generates volcano plots for differential expression analysis.\n",
    "# It reads upregulated and downregulated gene lists, labels significant genes,\n",
    "# highlights top upregulated/downregulated genes, and creates volcano plots for each comparison.\n",
    "\n",
    "# Import required libraries\n",
    "library(tidyverse)\n",
    "library(RColorBrewer)\n",
    "library(ggrepel)\n",
    "library(cowplot)\n",
    "library(readxl)"
   ]
  },
  {
   "cell_type": "code",
   "execution_count": null,
   "metadata": {
    "vscode": {
     "languageId": "r"
    }
   },
   "outputs": [],
   "source": [
    "# Function to read, merge and annotate gene list data\n",
    "read_and_prepare_data <- function(up_file, down_file) {\n",
    "  gene_list_up <- read_excel(up_file)\n",
    "  gene_list_down <- read_excel(down_file)\n",
    "  gene_list <- rbind(gene_list_up, gene_list_down)\n",
    "  \n",
    "  # Annotate differential expression\n",
    "  gene_list$diffexpressed <- \"NO\"\n",
    "  gene_list$diffexpressed[gene_list$logFC > 1 & gene_list$P.Value < 0.05] <- \"UP\"\n",
    "  gene_list$diffexpressed[gene_list$logFC < -1 & gene_list$P.Value < 0.05] <- \"DOWN\"\n",
    "  \n",
    "  # Filter for significant genes\n",
    "  filtered_genes <- gene_list[gene_list$P.Value < 0.05, ]\n",
    "  filtered_genes <- filtered_genes[order(filtered_genes$logFC), ]\n",
    "  \n",
    "  # Identify top 3 upregulated and downregulated genes\n",
    "  top_downregulated <- head(filtered_genes, 3)\n",
    "  top_upregulated <- tail(filtered_genes, 3)\n",
    "  top_genes <- rbind(top_downregulated, top_upregulated)\n",
    "  \n",
    "  # Label top genes\n",
    "  gene_list$delabel <- ifelse(gene_list$ID %in% top_genes$ID, gene_list$ID, NA)\n",
    "  \n",
    "  return(gene_list)\n",
    "}"
   ]
  },
  {
   "cell_type": "code",
   "execution_count": null,
   "metadata": {
    "vscode": {
     "languageId": "r"
    }
   },
   "outputs": [],
   "source": [
    "# Function to generate a volcano plot\n",
    "generate_volcano_plot <- function(gene_data, title) {\n",
    "  ggplot(data = gene_data, aes(x = logFC, y = -log10(P.Value), col = diffexpressed, label = delabel)) +\n",
    "    geom_vline(xintercept = c(-1, 1), col = \"gray\", linetype = 'dashed') +\n",
    "    geom_hline(yintercept = -log10(0.05), col = \"gray\", linetype = 'dashed') +\n",
    "    geom_point(size = 4) +\n",
    "    scale_color_manual(values = c(\"#00AFBB\", \"grey\", \"#bb0c00\"),\n",
    "                       labels = c(\"Downregulated\", \"Not significant\", \"Upregulated\")) +\n",
    "    coord_cartesian(ylim = c(0, 6.5), xlim = c(-5, 5)) +\n",
    "    labs(color = '', x = expression(\"log\"[2]*\"FC\"), y = expression(\"-log\"[10]*\"p-value\")) +\n",
    "    ggtitle(title) +\n",
    "    theme_minimal(base_size = 24) +\n",
    "    theme(plot.title = element_text(face = 'bold', hjust = 0.5, size = 32)) +\n",
    "    geom_text_repel(max.overlaps = Inf, size = 8, color = 'black')\n",
    "}"
   ]
  },
  {
   "cell_type": "code",
   "execution_count": null,
   "metadata": {
    "vscode": {
     "languageId": "r"
    }
   },
   "outputs": [],
   "source": [
    "# Example: Read data and generate a volcano plot\n",
    "\n",
    "# Input files (adjust paths to your files)\n",
    "input_bc_up <- \"B_vs_C_UP.xlsx\"\n",
    "input_bc_down <- \"B_vs_C_DOWN.xlsx\"\n",
    "\n",
    "# Prepare data and generate plot\n",
    "gene_list_BC <- read_and_prepare_data(input_bc_up, input_bc_down)\n",
    "plot_BC <- generate_volcano_plot(gene_list_BC, \"B vs C\")\n",
    "\n",
    "# Display the plot\n",
    "print(plot_BC)\n"
   ]
  }
 ],
 "metadata": {
  "kernelspec": {
   "display_name": "R",
   "language": "R",
   "name": "ir"
  },
  "language_info": {
   "codemirror_mode": "r",
   "file_extension": ".r",
   "mimetype": "text/x-r-source",
   "name": "R",
   "pygments_lexer": "r",
   "version": "4.3.2"
  }
 },
 "nbformat": 4,
 "nbformat_minor": 2
}
