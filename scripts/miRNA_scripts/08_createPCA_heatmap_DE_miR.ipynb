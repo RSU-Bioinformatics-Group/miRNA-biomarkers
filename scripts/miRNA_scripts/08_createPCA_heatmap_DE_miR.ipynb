{
 "cells": [
  {
   "cell_type": "code",
   "execution_count": null,
   "metadata": {
    "vscode": {
     "languageId": "r"
    }
   },
   "outputs": [],
   "source": [
    "# Heatmap and PCA Analysis of miRNA Expression Data\n",
    "\n",
    "# This notebook processes miRNA expression data by generating heatmaps and PCA plots.\n",
    "# It reads an input file containing miRNA expression levels, scales the data, and performs PCA.\n",
    "\n",
    "# Import required libraries\n",
    "library(ComplexHeatmap)\n",
    "library(RColorBrewer)\n",
    "library(circlize)\n",
    "library(dplyr)\n",
    "library(ggplot2)\n",
    "library(ggfortify)\n",
    "library(factoextra)"
   ]
  },
  {
   "cell_type": "code",
   "execution_count": null,
   "metadata": {
    "vscode": {
     "languageId": "r"
    }
   },
   "outputs": [],
   "source": [
    "# Function to process input data\n",
    "process_input_data <- function(input_file) {\n",
    "  info_expr <- read.delim(input_file, check.names = FALSE)\n",
    "  \n",
    "  # Select miRNAs of interest\n",
    "  extracted_feature_names <- c('hsa-miR-136-5p', 'hsa-miR-513c-3p', 'hsa-miR-514a-5p', 'hsa-miR-514a-3p', 'hsa-miR-507')\n",
    "  selected_rows <- info_expr[rownames(info_expr) %in% extracted_feature_names, ]\n",
    "  \n",
    "  # Extract sample groups from column names\n",
    "  snames_2 <- colnames(info_expr)\n",
    "  split_names <- strsplit(snames_2, \"_\")\n",
    "  sample_group <- sapply(split_names, function(x) x[3])\n",
    "  sample_group[is.na(sample_group)] <- \"C\"\n",
    "  sample_group <- gsub(\"BS\", \"B\", sample_group)\n",
    "  \n",
    "  list(selected_rows = selected_rows, sample_group = sample_group)\n",
    "}"
   ]
  },
  {
   "cell_type": "code",
   "execution_count": null,
   "metadata": {
    "vscode": {
     "languageId": "r"
    }
   },
   "outputs": [],
   "source": [
    "# Function to generate heatmap\n",
    "generate_heatmap <- function(processed_data) {\n",
    "  genes_expressed_matrix <- data.matrix(processed_data$selected_rows)\n",
    "  gene_expr_matrix <- t(scale(t(genes_expressed_matrix)))\n",
    "  \n",
    "  ha = HeatmapAnnotation(Group = processed_data$sample_group, \n",
    "                         col = list(Group = c(\"B\" = \"darkred\", \"C\" = \"darkgreen\", \"V\" = \"lightblue\")))\n",
    "  \n",
    "  ht_list <- Heatmap(gene_expr_matrix, show_row_names = TRUE, cluster_rows = FALSE, \n",
    "                     top_annotation = ha, name = \"Z-score\")\n",
    "  \n",
    "  draw(ht_list, merge_legend = TRUE, heatmap_legend_side = \"left\", annotation_legend_side = \"left\")\n",
    "}"
   ]
  },
  {
   "cell_type": "code",
   "execution_count": null,
   "metadata": {
    "vscode": {
     "languageId": "r"
    }
   },
   "outputs": [],
   "source": [
    "# Function to generate PCA plot\n",
    "generate_pca_plot <- function(processed_data) {\n",
    "  dat <- t(processed_data$selected_rows)\n",
    "  dat.pca <- prcomp(dat, center = TRUE, scale = FALSE)\n",
    "  \n",
    "  # PCA of individuals\n",
    "  pca_ind <- fviz_pca_ind(dat.pca, geom.ind = c(\"point\", \"text\"), col.ind = processed_data$sample_group, \n",
    "                          addEllipses = TRUE, ellipse.level = 0.8, legend.title = \"Groups\") +\n",
    "    labs(title = \"PCA with miRNA markers\", x = \"PC1\", y = \"PC2\") +\n",
    "    theme(text = element_text(size = 20))\n",
    "  \n",
    "  # PCA of variables\n",
    "  pca_var <- fviz_pca_var(dat.pca, geom.ind = c(\"point\", \"text\"), col.var = \"contrib\", \n",
    "                          gradient.cols = c(\"#00AFBB\", \"#E7B800\", \"#FC4E07\")) +\n",
    "    labs(title = '', x = \"PC1\", y = \"PC2\") +\n",
    "    theme(text = element_text(size = 18))\n",
    "  \n",
    "  list(pca_ind, pca_var)\n",
    "}"
   ]
  },
  {
   "cell_type": "code",
   "execution_count": null,
   "metadata": {
    "vscode": {
     "languageId": "r"
    }
   },
   "outputs": [],
   "source": [
    "# Example: Read data and generate heatmap and PCA plots\n",
    "\n",
    "# Input file (adjust path to your file)\n",
    "input_file <- \"miRNA_expression_data.txt\"\n",
    "\n",
    "# Process data and generate plots\n",
    "processed_data <- process_input_data(input_file)\n",
    "generate_heatmap(processed_data)\n",
    "pca_plots <- generate_pca_plot(processed_data)\n",
    "\n",
    "# Display PCA plots\n",
    "print(pca_plots[[1]])\n",
    "print(pca_plots[[2]])"
   ]
  }
 ],
 "metadata": {
  "kernelspec": {
   "display_name": "R",
   "language": "R",
   "name": "ir"
  },
  "language_info": {
   "name": "R"
  }
 },
 "nbformat": 4,
 "nbformat_minor": 2
}
